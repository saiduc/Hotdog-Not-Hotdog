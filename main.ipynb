{
 "cells": [
  {
   "cell_type": "code",
   "execution_count": 1,
   "metadata": {},
   "outputs": [],
   "source": [
    "import torch\n",
    "import torchvision\n",
    "import torchvision.transforms as transforms"
   ]
  },
  {
   "cell_type": "code",
   "execution_count": 2,
   "metadata": {},
   "outputs": [],
   "source": [
    "# transform = transforms.Compose([transforms.Grayscale(), transforms.Resize((256,256)), transforms.ToTensor(), transforms.Normalize((0.5,), (0.5,))])\n",
    "\n",
    "transform = transforms.Compose([transforms.Resize((32,32)), transforms.ToTensor(), transforms.Normalize((0.5,0.5,0.5), (0.5,0.5,0.5))])\n",
    "\n",
    "trainset = torchvision.datasets.ImageFolder('./hotdog/train', transform=transform)\n",
    "trainloader = torch.utils.data.DataLoader(trainset, batch_size=4, shuffle=True, num_workers=2)\n",
    "\n",
    "testset = torchvision.datasets.ImageFolder('./hotdog/test', transform=transform)\n",
    "testloader = torch.utils.data.DataLoader(testset, batch_size=4, shuffle=True, num_workers=2)\n",
    "\n",
    "classes = ('hotdog', 'nothotdog')"
   ]
  },
  {
   "cell_type": "code",
   "execution_count": 3,
   "metadata": {},
   "outputs": [],
   "source": [
    "import matplotlib.pyplot as plt\n",
    "import numpy as np\n",
    "import matplotlib\n",
    "\n",
    "%matplotlib inline"
   ]
  },
  {
   "cell_type": "code",
   "execution_count": 4,
   "metadata": {},
   "outputs": [
    {
     "data": {
      "image/png": "[encoded data removed]",
      "text/plain": [
       "<Figure size 432x288 with 1 Axes>"
      ]
     },
     "metadata": {
      "needs_background": "light"
     },
     "output_type": "display_data"
    },
    {
     "name": "stdout",
     "output_type": "stream",
     "text": [
      "nothotdog nothotdog hotdog nothotdog\n"
     ]
    }
   ],
   "source": [
    "def imshow(img):\n",
    "    img = img / 2 + 0.5\n",
    "    npimg = img.numpy()\n",
    "    plt.imshow(np.transpose(npimg, (1, 2, 0)))\n",
    "    plt.show()\n",
    "\n",
    "dataiter = iter(trainloader)\n",
    "images, labels = dataiter.next()\n",
    "\n",
    "imshow(torchvision.utils.make_grid(images))\n",
    "\n",
    "print(' '.join('%5s' % classes[label] for label in labels))"
   ]
  },
  {
   "cell_type": "code",
   "execution_count": 5,
   "metadata": {},
   "outputs": [],
   "source": [
    "import torch.nn as nn\n",
    "import torch.nn.functional as F\n",
    "\n",
    "class Net(nn.Module):\n",
    "    def __init__(self):\n",
    "        super(Net, self).__init__()\n",
    "        self.conv1 = nn.Conv2d(3, 6, 5)\n",
    "        self.pool = nn.MaxPool2d(2, 2)\n",
    "        self.conv2 = nn.Conv2d(6, 16, 5)\n",
    "        self.fc1 = nn.Linear(16 * 5 * 5, 120)\n",
    "        self.fc2 = nn.Linear(120, 84)\n",
    "        self.fc3 = nn.Linear(84, 2)\n",
    "\n",
    "    def forward(self, x):\n",
    "        x = self.pool(F.relu(self.conv1(x)))\n",
    "        x = self.pool(F.relu(self.conv2(x)))\n",
    "        x = x.view(-1, 16 * 5 * 5)\n",
    "        x = F.relu(self.fc1(x))\n",
    "        x = F.relu(self.fc2(x))\n",
    "        x = self.fc3(x)\n",
    "        return x\n",
    "        \n",
    "net = Net()"
   ]
  },
  {
   "cell_type": "code",
   "execution_count": 6,
   "metadata": {},
   "outputs": [],
   "source": [
    "import torch.optim as optim\n",
    "\n",
    "criterion = nn.CrossEntropyLoss()\n",
    "optimizer = optim.SGD(net.parameters(), lr=0.001, momentum=0.9)"
   ]
  },
  {
   "cell_type": "code",
   "execution_count": 7,
   "metadata": {},
   "outputs": [
    {
     "name": "stdout",
     "output_type": "stream",
     "text": [
      "Epoch 0 - Training loss: 0.6921434550285339\n",
      "Epoch 1 - Training loss: 0.5663396379053592\n",
      "Epoch 2 - Training loss: 0.39983688562363384\n",
      "Epoch 3 - Training loss: 0.3777229942083359\n",
      "Epoch 4 - Training loss: 0.35573203981295226\n",
      "Epoch 5 - Training loss: 0.3481510866470635\n",
      "Epoch 6 - Training loss: 0.3400677194064483\n",
      "Epoch 7 - Training loss: 0.3290444418918341\n",
      "Epoch 8 - Training loss: 0.336578759720549\n",
      "Epoch 9 - Training loss: 0.3294779923944734\n",
      "Epoch 10 - Training loss: 0.3184817425827496\n",
      "Epoch 11 - Training loss: 0.31234924323670565\n",
      "Epoch 12 - Training loss: 0.30515121533628553\n",
      "Epoch 13 - Training loss: 0.30587300277594476\n",
      "Epoch 14 - Training loss: 0.29234618752449754\n",
      "Epoch 15 - Training loss: 0.29756450753100216\n",
      "Epoch 16 - Training loss: 0.27540239869226935\n",
      "Epoch 17 - Training loss: 0.2794302984601818\n",
      "Epoch 18 - Training loss: 0.2704737059655599\n",
      "Epoch 19 - Training loss: 0.2508464540204732\n",
      "Epoch 20 - Training loss: 0.24589465454500167\n",
      "Epoch 21 - Training loss: 0.23274207385357296\n",
      "Epoch 22 - Training loss: 0.22198866645817178\n",
      "Epoch 23 - Training loss: 0.20677498031314462\n",
      "Epoch 24 - Training loss: 0.18437884959299117\n",
      "Epoch 25 - Training loss: 0.18502435763645916\n",
      "Epoch 26 - Training loss: 0.15817217389401048\n",
      "Epoch 27 - Training loss: 0.16262773118779297\n",
      "Epoch 28 - Training loss: 0.13853393245094048\n",
      "Epoch 29 - Training loss: 0.13391525754464237\n",
      "Epoch 30 - Training loss: 0.10162133186232916\n",
      "Epoch 31 - Training loss: 0.10397314605915778\n",
      "Epoch 32 - Training loss: 0.07399330649160402\n",
      "Epoch 33 - Training loss: 0.10089925262469615\n",
      "Epoch 34 - Training loss: 0.04882960359442586\n",
      "Epoch 35 - Training loss: 0.07184066243339833\n",
      "Epoch 36 - Training loss: 0.05565583633600215\n",
      "Epoch 37 - Training loss: 0.038186365781620796\n",
      "Epoch 38 - Training loss: 0.05337551022532796\n",
      "Epoch 39 - Training loss: 0.08393320901953642\n",
      "Epoch 40 - Training loss: 0.0798582956939428\n",
      "Epoch 41 - Training loss: 0.03416686395341452\n",
      "Epoch 42 - Training loss: 0.01954589953599071\n",
      "Epoch 43 - Training loss: 0.019649714117274116\n",
      "Epoch 44 - Training loss: 0.008571118836568324\n",
      "Epoch 45 - Training loss: 0.003520507233812111\n",
      "Epoch 46 - Training loss: 0.001368377182430855\n",
      "Epoch 47 - Training loss: 0.001024231940298563\n",
      "Epoch 48 - Training loss: 0.0008233405584285479\n",
      "Epoch 49 - Training loss: 0.000690740308227678\n",
      "Epoch 50 - Training loss: 0.000600954353906971\n",
      "Epoch 51 - Training loss: 0.0005425072390359347\n",
      "Epoch 52 - Training loss: 0.00048014154058128965\n",
      "Epoch 53 - Training loss: 0.0004332444957483688\n",
      "Epoch 54 - Training loss: 0.00039608958998095647\n",
      "Epoch 55 - Training loss: 0.0003691627265513411\n",
      "Epoch 56 - Training loss: 0.0003403208709935939\n",
      "Epoch 57 - Training loss: 0.0003192791835370663\n",
      "Epoch 58 - Training loss: 0.0002980039268753636\n",
      "Epoch 59 - Training loss: 0.00028061277757107205\n",
      "Training Time (in minutes):  10.441002015272776\n"
     ]
    }
   ],
   "source": [
    "from time import time\n",
    "\n",
    "epochs = 60\n",
    "time0 = time()\n",
    "\n",
    "for epoch in range(epochs):\n",
    "    running_loss = 0.0\n",
    "    for i, data in enumerate(trainloader, 0):\n",
    "        # get the inputs\n",
    "        inputs, labels = data\n",
    "        \n",
    "        # zero the parameter gradients\n",
    "        optimizer.zero_grad()\n",
    "\n",
    "        # forward + backward + optimize\n",
    "        outputs = net(inputs)\n",
    "        loss = criterion(outputs, labels)\n",
    "        loss.backward()\n",
    "        optimizer.step()\n",
    "\n",
    "        running_loss += loss.item()\n",
    "        \n",
    "    print(\"Epoch {} - Training loss: {}\".format(epoch, running_loss/len(trainloader)))\n",
    " \n",
    "print(\"Training Time (in minutes): \", (time() - time0)/60)"
   ]
  },
  {
   "cell_type": "code",
   "execution_count": 8,
   "metadata": {},
   "outputs": [],
   "source": [
    "PATH = './hotdog.pth'\n",
    "torch.save(net.state_dict(), PATH)"
   ]
  },
  {
   "cell_type": "code",
   "execution_count": 11,
   "metadata": {},
   "outputs": [
    {
     "data": {
      "image/png": "[encoded data removed]",
      "text/plain": [
       "<Figure size 432x288 with 1 Axes>"
      ]
     },
     "metadata": {
      "needs_background": "light"
     },
     "output_type": "display_data"
    },
    {
     "name": "stdout",
     "output_type": "stream",
     "text": [
      "Ground Truth:  hotdog nothotdog nothotdog nothotdog\n",
      "Predicted:  hotdog nothotdog nothotdog nothotdog\n"
     ]
    }
   ],
   "source": [
    "dataiter = iter(testloader)\n",
    "images, labels = dataiter.next()\n",
    "\n",
    "# print images\n",
    "imshow(torchvision.utils.make_grid(images))\n",
    "print(\"Ground Truth: \", \" \".join('%5s' % classes[label] for label in labels))\n",
    "\n",
    "outputs = net(images)\n",
    "\n",
    "_, predicted = torch.max(outputs, 1)\n",
    "print(\"Predicted: \", \" \".join(\"%5s\" % classes[predict] for predict in predicted))"
   ]
  },
  {
   "cell_type": "code",
   "execution_count": 13,
   "metadata": {},
   "outputs": [
    {
     "name": "stdout",
     "output_type": "stream",
     "text": [
      "Accuracy of the network on the test images: 84 %\n"
     ]
    }
   ],
   "source": [
    "correct = 0\n",
    "total = 0\n",
    "with torch.no_grad():\n",
    "    for data in testloader:\n",
    "        images, labels = data\n",
    "        outputs = net(images)\n",
    "        _, predicted = torch.max(outputs.data, 1)\n",
    "        total += labels.size(0)\n",
    "        correct += (predicted == labels).sum().item()\n",
    "\n",
    "print('Accuracy of the network on the test images: %d %%' % (100 * correct / total))\n"
   ]
  }
 ],
 "metadata": {
  "kernelspec": {
   "display_name": "Python 3",
   "language": "python",
   "name": "python3"
  },
  "language_info": {
   "codemirror_mode": {
    "name": "ipython",
    "version": 3
   },
   "file_extension": ".py",
   "mimetype": "text/x-python",
   "name": "python",
   "nbconvert_exporter": "python",
   "pygments_lexer": "ipython3",
   "version": "3.8.1"
  },
  "org": null
 },
 "nbformat": 4,
 "nbformat_minor": 1
}
