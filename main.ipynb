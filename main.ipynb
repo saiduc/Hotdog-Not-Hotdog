{
 "cells": [
  {
   "cell_type": "markdown",
   "metadata": {},
   "source": [
    "# Hotdog or Not Hotdog Classifier using PyTorch"
   ]
  },
  {
   "cell_type": "markdown",
   "metadata": {},
   "source": [
    "## Loading the Images\n",
    "\n"
   ]
  },
  {
   "cell_type": "code",
   "execution_count": 1,
   "metadata": {},
   "outputs": [],
   "source": [
    "import torch\n",
    "import torchvision\n",
    "import torchvision.transforms as transforms"
   ]
  },
  {
   "cell_type": "code",
   "execution_count": 2,
   "metadata": {},
   "outputs": [],
   "source": [
    "# Normalise all the images\n",
    "transform = transforms.Compose([transforms.Resize((32,32)), transforms.ToTensor(), transforms.Normalize((0.5,0.5,0.5), (0.5,0.5,0.5))])\n",
    "\n",
    "# Load the images into train and test sets\n",
    "trainset = torchvision.datasets.ImageFolder('./data/train', transform=transform)\n",
    "trainloader = torch.utils.data.DataLoader(trainset, batch_size=4, shuffle=True, num_workers=2)\n",
    "\n",
    "testset = torchvision.datasets.ImageFolder('./data/test', transform=transform)\n",
    "testloader = torch.utils.data.DataLoader(testset, batch_size=4, shuffle=True, num_workers=2)\n",
    "\n",
    "# The two possible labels\n",
    "classes = ('hotdog', 'nothotdog')"
   ]
  },
  {
   "cell_type": "markdown",
   "metadata": {},
   "source": [
    "## Displaying the Images\n",
    "\n"
   ]
  },
  {
   "cell_type": "code",
   "execution_count": 3,
   "metadata": {},
   "outputs": [],
   "source": [
    "import matplotlib.pyplot as plt\n",
    "import numpy as np\n",
    "import matplotlib\n",
    "\n",
    "%matplotlib inline"
   ]
  },
  {
   "cell_type": "code",
   "execution_count": 4,
   "metadata": {},
   "outputs": [
    {
     "data": {
      "image/png": "[encoded data removed]",
      "text/plain": [
       "<Figure size 432x288 with 1 Axes>"
      ]
     },
     "metadata": {
      "needs_background": "light"
     },
     "output_type": "display_data"
    },
    {
     "name": "stdout",
     "output_type": "stream",
     "text": [
      "nothotdog hotdog hotdog hotdog\n"
     ]
    }
   ],
   "source": [
    "def imshow(img):\n",
    "    img = img / 2 + 0.5\n",
    "    npimg = img.numpy()\n",
    "    plt.imshow(np.transpose(npimg, (1, 2, 0)))\n",
    "    plt.show()\n",
    "\n",
    "dataiter = iter(trainloader)\n",
    "images, labels = dataiter.next()\n",
    "\n",
    "imshow(torchvision.utils.make_grid(images))\n",
    "\n",
    "print(' '.join('%5s' % classes[label] for label in labels))"
   ]
  },
  {
   "cell_type": "markdown",
   "metadata": {},
   "source": [
    "## Constructing the CNN\n",
    "\n"
   ]
  },
  {
   "cell_type": "code",
   "execution_count": 5,
   "metadata": {},
   "outputs": [],
   "source": [
    "import torch.nn as nn\n",
    "import torch.nn.functional as F\n",
    "\n",
    "class Net(nn.Module):\n",
    "    def __init__(self):\n",
    "        super(Net, self).__init__()\n",
    "        self.conv1 = nn.Conv2d(3, 6, 5)\n",
    "        self.pool = nn.MaxPool2d(2, 2)\n",
    "        self.conv2 = nn.Conv2d(6, 16, 5)\n",
    "        self.fc1 = nn.Linear(16 * 5 * 5, 120)\n",
    "        self.fc2 = nn.Linear(120, 84)\n",
    "        self.fc3 = nn.Linear(84, 2)\n",
    "\n",
    "    def forward(self, x):\n",
    "        x = self.pool(F.relu(self.conv1(x)))\n",
    "        x = self.pool(F.relu(self.conv2(x)))\n",
    "        x = x.view(-1, 16 * 5 * 5)\n",
    "        x = F.relu(self.fc1(x))\n",
    "        x = F.relu(self.fc2(x))\n",
    "        x = self.fc3(x)\n",
    "        return x\n",
    "        \n",
    "net = Net()"
   ]
  },
  {
   "cell_type": "markdown",
   "metadata": {},
   "source": [
    "## Training the Network\n",
    "\n"
   ]
  },
  {
   "cell_type": "code",
   "execution_count": 6,
   "metadata": {},
   "outputs": [],
   "source": [
    "import torch.optim as optim\n",
    "\n",
    "criterion = nn.CrossEntropyLoss()\n",
    "optimizer = optim.SGD(net.parameters(), lr=0.001, momentum=0.9)"
   ]
  },
  {
   "cell_type": "code",
   "execution_count": 7,
   "metadata": {},
   "outputs": [
    {
     "name": "stdout",
     "output_type": "stream",
     "text": [
      "Epoch 0 - Training loss: 0.6906750738620758\n",
      "Epoch 1 - Training loss: 0.5729638336002827\n",
      "Epoch 2 - Training loss: 0.4143356876820326\n",
      "Epoch 3 - Training loss: 0.3791161488853395\n",
      "Epoch 4 - Training loss: 0.3684974577846006\n",
      "Epoch 5 - Training loss: 0.34323266258649526\n",
      "Epoch 6 - Training loss: 0.34856816098093985\n",
      "Epoch 7 - Training loss: 0.3281500303207431\n",
      "Epoch 8 - Training loss: 0.32647695229575036\n",
      "Epoch 9 - Training loss: 0.3259537371005863\n",
      "Epoch 10 - Training loss: 0.31294779675919565\n",
      "Epoch 11 - Training loss: 0.3070427982956171\n",
      "Epoch 12 - Training loss: 0.3073666633274406\n",
      "Epoch 13 - Training loss: 0.2843705350807868\n",
      "Epoch 14 - Training loss: 0.2777522105872631\n",
      "Epoch 15 - Training loss: 0.27580566409416496\n",
      "Epoch 16 - Training loss: 0.2686161033755634\n",
      "Epoch 17 - Training loss: 0.25829744793940335\n",
      "Epoch 18 - Training loss: 0.2439048939240165\n",
      "Epoch 19 - Training loss: 0.23358697649056556\n",
      "Epoch 20 - Training loss: 0.2241018854614813\n",
      "Epoch 21 - Training loss: 0.20171046380093322\n",
      "Epoch 22 - Training loss: 0.19435166464222128\n",
      "Epoch 23 - Training loss: 0.17918971397104905\n",
      "Epoch 24 - Training loss: 0.17290736039693003\n",
      "Epoch 25 - Training loss: 0.14746944767585957\n",
      "Epoch 26 - Training loss: 0.12717611397791187\n",
      "Epoch 27 - Training loss: 0.11638658363810828\n",
      "Epoch 28 - Training loss: 0.1070711918214729\n",
      "Epoch 29 - Training loss: 0.10520639692285476\n",
      "Epoch 30 - Training loss: 0.074774993284409\n",
      "Epoch 31 - Training loss: 0.07432180876505663\n",
      "Epoch 32 - Training loss: 0.06515936405518642\n",
      "Epoch 33 - Training loss: 0.05833485000550354\n",
      "Epoch 34 - Training loss: 0.07422013229352922\n",
      "Epoch 35 - Training loss: 0.035392856270427216\n",
      "Epoch 36 - Training loss: 0.03160665344171318\n",
      "Epoch 37 - Training loss: 0.013570722715619673\n",
      "Epoch 38 - Training loss: 0.026463793097130286\n",
      "Epoch 39 - Training loss: 0.07517130366827746\n",
      "Epoch 40 - Training loss: 0.08063639758899427\n",
      "Epoch 41 - Training loss: 0.07141736673343871\n",
      "Epoch 42 - Training loss: 0.02008192793538369\n",
      "Epoch 43 - Training loss: 0.006635651849719039\n",
      "Epoch 44 - Training loss: 0.003423724388321496\n",
      "Epoch 45 - Training loss: 0.0020920398721622673\n",
      "Epoch 46 - Training loss: 0.0014729805939935829\n",
      "Epoch 47 - Training loss: 0.001203820861878949\n",
      "Epoch 48 - Training loss: 0.0010020140685196354\n",
      "Epoch 49 - Training loss: 0.0008186467446228676\n",
      "Epoch 50 - Training loss: 0.0007319552127811839\n",
      "Epoch 51 - Training loss: 0.0006541191410139114\n",
      "Epoch 52 - Training loss: 0.0005809129792791978\n",
      "Epoch 53 - Training loss: 0.000525954339060263\n",
      "Epoch 54 - Training loss: 0.0004788913041863978\n",
      "Epoch 55 - Training loss: 0.00044757426781088226\n",
      "Epoch 56 - Training loss: 0.0004087360945697931\n",
      "Epoch 57 - Training loss: 0.0003803331090591975\n",
      "Epoch 58 - Training loss: 0.0003538142947210723\n",
      "Epoch 59 - Training loss: 0.000334421155738589\n",
      "Training Time (in minutes):  7.557666301727295\n"
     ]
    }
   ],
   "source": [
    "from time import time\n",
    "\n",
    "epochs = 60\n",
    "time0 = time()\n",
    "\n",
    "for epoch in range(epochs):\n",
    "    running_loss = 0.0\n",
    "    for i, data in enumerate(trainloader, 0):\n",
    "        # get the inputs\n",
    "        inputs, labels = data\n",
    "        \n",
    "        # zero the parameter gradients\n",
    "        optimizer.zero_grad()\n",
    "\n",
    "        # forward + backward + optimize\n",
    "        outputs = net(inputs)\n",
    "        loss = criterion(outputs, labels)\n",
    "        loss.backward()\n",
    "        optimizer.step()\n",
    "\n",
    "        running_loss += loss.item()\n",
    "        \n",
    "    print(\"Epoch {} - Training loss: {}\".format(epoch, running_loss/len(trainloader)))\n",
    " \n",
    "print(\"Training Time (in minutes): \", (time() - time0)/60)"
   ]
  },
  {
   "cell_type": "code",
   "execution_count": 8,
   "metadata": {},
   "outputs": [],
   "source": [
    "PATH = './hotdog.pth'\n",
    "torch.save(net.state_dict(), PATH)"
   ]
  },
  {
   "cell_type": "markdown",
   "metadata": {},
   "source": [
    "## Testing the Model\n",
    "\n"
   ]
  },
  {
   "cell_type": "code",
   "execution_count": 9,
   "metadata": {},
   "outputs": [
    {
     "data": {
      "image/png": "[encoded data removed]",
      "text/plain": [
       "<Figure size 432x288 with 1 Axes>"
      ]
     },
     "metadata": {
      "needs_background": "light"
     },
     "output_type": "display_data"
    },
    {
     "name": "stdout",
     "output_type": "stream",
     "text": [
      "Ground Truth:  nothotdog hotdog hotdog hotdog\n",
      "Predicted:  nothotdog hotdog hotdog hotdog\n"
     ]
    }
   ],
   "source": [
    "dataiter = iter(testloader)\n",
    "images, labels = dataiter.next()\n",
    "\n",
    "# print images\n",
    "imshow(torchvision.utils.make_grid(images))\n",
    "print(\"Ground Truth: \", \" \".join('%5s' % classes[label] for label in labels))\n",
    "\n",
    "outputs = net(images)\n",
    "\n",
    "_, predicted = torch.max(outputs, 1)\n",
    "print(\"Predicted: \", \" \".join(\"%5s\" % classes[predict] for predict in predicted))"
   ]
  },
  {
   "cell_type": "code",
   "execution_count": 10,
   "metadata": {},
   "outputs": [
    {
     "name": "stdout",
     "output_type": "stream",
     "text": [
      "Accuracy of the network on the test images: 84 %\n"
     ]
    }
   ],
   "source": [
    "correct = 0\n",
    "total = 0\n",
    "with torch.no_grad():\n",
    "    for data in testloader:\n",
    "        images, labels = data\n",
    "        outputs = net(images)\n",
    "        _, predicted = torch.max(outputs.data, 1)\n",
    "        total += labels.size(0)\n",
    "        correct += (predicted == labels).sum().item()\n",
    "\n",
    "print('Accuracy of the network on the test images: %d %%' % (\n",
    "    100 * correct / total))"
   ]
  }
 ],
 "metadata": {
  "kernelspec": {
   "display_name": "Python 3",
   "language": "python",
   "name": "python3"
  },
  "language_info": {
   "codemirror_mode": {
    "name": "ipython",
    "version": 3
   },
   "file_extension": ".py",
   "mimetype": "text/x-python",
   "name": "python",
   "nbconvert_exporter": "python",
   "pygments_lexer": "ipython3",
   "version": "3.8.1"
  },
  "org": null
 },
 "nbformat": 4,
 "nbformat_minor": 1
}
